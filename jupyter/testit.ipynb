{
 "cells": [
  {
   "cell_type": "markdown",
   "id": "5992e1fa-993f-4b5e-b7bb-400eac3fbe45",
   "metadata": {},
   "source": [
    "# A Notebook that Utilizes a Cluster!\n",
    "\n",
    "With Dragon, it is possible to run a Jupyter notebook across an entire cluster or supercomputer allocation. This is a first notebook example, but imagine how quickly you can get work done if you have an entire cluster at your disposal on which to run your notebook!\n",
    "\n",
    "The lines in the first cell set up Dragon to be the Python start method for multiprocessing. These lines are always first in a Dragon program and only need to be done once. The force=True is only necessary in a Jupyter notebook if you were to execute the cell more than once. The start method is normally only set once per program execution. "
   ]
  },
  {
   "cell_type": "code",
   "execution_count": 4,
   "id": "179a9106-0b32-49b9-b9bb-9cc85921696e",
   "metadata": {},
   "outputs": [],
   "source": [
    "import dragon\n",
    "import multiprocessing as mp\n",
    "mp.set_start_method('dragon', force=True)"
   ]
  },
  {
   "cell_type": "markdown",
   "id": "bc87a17f-35d1-49a7-a0df-b8ed450c3808",
   "metadata": {},
   "source": [
    "The following function is defined in this notebook and will be called multiple times on each node below. Multiprocessing usually does not support defining a function in a Jupyter notebook to be executed as a target function. Usually you would need to define the function in a Python source file and import it here. But Dragon uses cloudpickle and with cloudpickle you can define the function in the notebook if you like and pass it as a target to multiprocessing. "
   ]
  },
  {
   "cell_type": "code",
   "execution_count": 5,
   "id": "236cfbc9-1cb1-4655-b416-81b82d542565",
   "metadata": {},
   "outputs": [],
   "source": [
    "def my_fun(x):\n",
    "    import socket\n",
    "    print(x, socket.gethostname())"
   ]
  },
  {
   "cell_type": "markdown",
   "id": "af3cdd89-cd35-431b-b61a-8ad8d67d3bfc",
   "metadata": {},
   "source": [
    "In the next cell we create a multiprocessing Pool with 20 workers that are spread across the cluster or allocation. Then the map function executes the **my_fun** function 100 times using the 20 workers to do it. The map call can get results from each function if the function returned anything interesting and it would build a list of all the results. In this case, **my_fun** returns **None** so the result of p.map would be a list of **None**s (not interesting for this example of course). The **print** statements are printed on each node of the cluster, but Dragon takes care of routing all the output back to the notebook for you so you can see the results here. Pretty nice!"
   ]
  },
  {
   "cell_type": "code",
   "execution_count": 6,
   "id": "d4d26250-6d1e-4bcd-8764-9219b8eb14e3",
   "metadata": {},
   "outputs": [
    {
     "name": "stdout",
     "output_type": "stream",
     "text": [
      "0 node3\n",
      "1 node3\n",
      "14 node3\n",
      "15 node3\n",
      "22 node3\n",
      "23 node3\n",
      "34 node3\n",
      "35 node3\n",
      "48 node3\n",
      "49 node3\n",
      "60 node3\n",
      "61 node3\n",
      "72 node3\n",
      "73 node3\n",
      "82 node3\n",
      "83 node3\n",
      "92 node3\n",
      "93 node3\n",
      "8 node3\n",
      "9 node3\n",
      "18 node3\n",
      "19 node3\n",
      "28 node3\n",
      "29 node3\n",
      "38 node3\n",
      "39 node3\n",
      "54 node3\n",
      "55 node3\n",
      "66 node3\n",
      "67 node3\n",
      "76 node3\n",
      "77 node3\n",
      "90 node3\n",
      "91 node3\n",
      "2 node3\n",
      "3 node3\n",
      "10 node3\n",
      "11 node3\n",
      "20 node3\n",
      "21 node3\n",
      "36 node3\n",
      "37 node3\n",
      "50 node3\n",
      "51 node3\n",
      "58 node3\n",
      "59 node3\n",
      "68 node3\n",
      "69 node3\n",
      "80 node3\n",
      "81 node3\n",
      "94 node3\n",
      "95 node3\n",
      "6 node3\n",
      "7 node3\n",
      "12 node3\n",
      "13 node3\n",
      "24 node3\n",
      "25 node3\n",
      "32 node3\n",
      "33 node3\n",
      "44 node3\n",
      "45 node3\n",
      "56 node3\n",
      "57 node3\n",
      "70 node3\n",
      "71 node3\n",
      "84 node3\n",
      "85 node3\n",
      "96 node3\n",
      "97 node3\n",
      "16 node2\n",
      "17 node2\n",
      "42 node2\n",
      "43 node2\n",
      "30 node2\n",
      "31 node2\n",
      "46 node0\n",
      "47 node0\n",
      "4 node3\n",
      "5 node3\n",
      "26 node3\n",
      "27 node3\n",
      "40 node3\n",
      "41 node3\n",
      "52 node3\n",
      "53 node3\n",
      "64 node3\n",
      "65 node3\n",
      "74 node3\n",
      "75 node3\n",
      "86 node3\n",
      "87 node3\n",
      "98 node3\n",
      "99 node3\n",
      "62 node2\n",
      "63 node2\n",
      "88 node0\n",
      "89 node0\n",
      "78 node2\n",
      "79 node2\n"
     ]
    }
   ],
   "source": [
    "with mp.Pool(20) as p:\n",
    "    p.map(my_fun, range(100))"
   ]
  },
  {
   "cell_type": "code",
   "execution_count": null,
   "id": "b308054c-897a-4849-8cb2-f837b45fd2b6",
   "metadata": {},
   "outputs": [],
   "source": []
  }
 ],
 "metadata": {
  "kernelspec": {
   "display_name": "Python 3 (ipykernel)",
   "language": "python",
   "name": "python3"
  },
  "language_info": {
   "codemirror_mode": {
    "name": "ipython",
    "version": 3
   },
   "file_extension": ".py",
   "mimetype": "text/x-python",
   "name": "python",
   "nbconvert_exporter": "python",
   "pygments_lexer": "ipython3",
   "version": "3.12.3"
  }
 },
 "nbformat": 4,
 "nbformat_minor": 5
}
